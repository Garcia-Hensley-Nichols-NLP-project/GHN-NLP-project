{
 "cells": [
  {
   "cell_type": "code",
   "execution_count": 1,
   "id": "d2eb0245-3989-4ce3-b760-7e95ff0a43c9",
   "metadata": {},
   "outputs": [],
   "source": [
    "import requests\n",
    "from env import github_token"
   ]
  },
  {
   "cell_type": "code",
   "execution_count": 9,
   "id": "6e541549-0878-4bcf-a205-72e7933f16dd",
   "metadata": {},
   "outputs": [],
   "source": [
    "headers = {'Authorization' : f'token {github_token}', 'user-agent' : 'alegarcia-dev'}\n",
    "data = requests.get('https://api.github.com/search/repositories?q=bitcoin&per_page=100') "
   ]
  },
  {
   "cell_type": "code",
   "execution_count": 10,
   "id": "2afc1106-4f15-467c-b04d-e86305ef7638",
   "metadata": {},
   "outputs": [],
   "source": [
    "data = data.json()"
   ]
  },
  {
   "cell_type": "code",
   "execution_count": 11,
   "id": "708f393c-55ce-439d-9df7-1f2a0fb876bd",
   "metadata": {},
   "outputs": [
    {
     "data": {
      "text/plain": [
       "dict_keys(['total_count', 'incomplete_results', 'items'])"
      ]
     },
     "execution_count": 11,
     "metadata": {},
     "output_type": "execute_result"
    }
   ],
   "source": [
    "data.keys()"
   ]
  },
  {
   "cell_type": "code",
   "execution_count": 12,
   "id": "34ec0b60-3f1b-42dd-af66-3b25705ec383",
   "metadata": {},
   "outputs": [
    {
     "data": {
      "text/plain": [
       "57582"
      ]
     },
     "execution_count": 12,
     "metadata": {},
     "output_type": "execute_result"
    }
   ],
   "source": [
    "data['total_count']"
   ]
  },
  {
   "cell_type": "code",
   "execution_count": 7,
   "id": "9495baeb-21aa-44c3-9b73-3e91c1c37776",
   "metadata": {},
   "outputs": [
    {
     "data": {
      "text/plain": [
       "'https://github.com/bitcoin/bitcoin'"
      ]
     },
     "execution_count": 7,
     "metadata": {},
     "output_type": "execute_result"
    }
   ],
   "source": [
    "data['items'][0]['html_url']"
   ]
  },
  {
   "cell_type": "code",
   "execution_count": 13,
   "id": "745ec476-4400-49d3-9647-af3de437e2c7",
   "metadata": {},
   "outputs": [
    {
     "data": {
      "text/plain": [
       "100"
      ]
     },
     "execution_count": 13,
     "metadata": {},
     "output_type": "execute_result"
    }
   ],
   "source": [
    "len(data['items'])"
   ]
  },
  {
   "cell_type": "code",
   "execution_count": 19,
   "id": "de6034d4-e045-4621-a7a3-d56569614830",
   "metadata": {},
   "outputs": [
    {
     "name": "stdout",
     "output_type": "stream",
     "text": [
      "\"bitcoin/bitcoin\",\n",
      "\"bitcoinbook/bitcoinbook\",\n",
      "\"bitcoin/bips\",\n",
      "\"bitcoinjs/bitcoinjs-lib\",\n",
      "\"spesmilo/electrum\",\n",
      "\"bitcoin-wallet/bitcoin-wallet\",\n",
      "\"etotheipi/BitcoinArmory\",\n",
      "\"bitcoin-dot-org/Bitcoin.org\",\n",
      "\"jgarzik/cpuminer\",\n",
      "\"BitcoinExchangeFH/BitcoinExchangeFH\",\n",
      "\"yenom/BitcoinKit\",\n",
      "\"maxme/bitcoin-arbitrage\",\n",
      "\"BitcoinUnlimited/BitcoinUnlimited\",\n",
      "\"Bitcoin-ABC/bitcoin-abc\",\n",
      "\"bisq-network/bisq\",\n",
      "\"mobnetic/BitcoinChecker\",\n",
      "\"bitcoin-abe/bitcoin-abe\",\n",
      "\"petertodd/python-bitcoinlib\",\n",
      "\"sipa/bitcoin-seeder\",\n",
      "\"imfly/bitcoin-on-nodejs\",\n",
      "\"PiSimo/BitcoinForecast\",\n",
      "\"trottier/original-bitcoin\",\n",
      "\"rust-bitcoin/rust-bitcoin\",\n",
      "\"Bit-Wasp/bitcoin-php\",\n",
      "\"btcpayserver/btcpayserver\",\n",
      "\"bitcoin-core/bitcoincore.org\",\n",
      "\"lian/bitcoin-ruby\",\n",
      "\"GammaGao/bitcoinwhitepaper\",\n",
      "\"tianmingyun/MasterBitcoin2CN\",\n",
      "\"kylemanna/docker-bitcoind\",\n",
      "\"pointbiz/bitaddress.org\",\n",
      "\"BTCPrivate/BitcoinPrivate-legacy\",\n",
      "\"jgarzik/python-bitcoinrpc\",\n",
      "\"pooler/cpuminer\",\n",
      "\"progranism/Open-Source-FPGA-Bitcoin-Miner\",\n",
      "\"HelloZeroNet/ZeroNet\",\n",
      "\"cryptean/bitcoinlib\",\n",
      "\"xiaolai/bitcoin-whitepaper-chinese-translation\",\n",
      "\"oleganza/CoreBitcoin\",\n",
      "\"bitcoin-sv/bitcoin-sv\",\n",
      "\"m0mchil/poclbm\",\n",
      "\"jgarzik/pyminer\",\n",
      "\"bitcoinxt/bitcoinxt\",\n",
      "\"paritytech/parity-bitcoin\",\n",
      "\"bitpay/insight\",\n",
      "\"stratisproject/StratisBitcoinFullNode\",\n",
      "\"Multibit-Legacy/multibit\",\n",
      "\"janoside/btc-rpc-explorer\",\n",
      "\"BlockchainCommons/Learning-Bitcoin-from-the-Command-Line\",\n",
      "\"JulyIghor/QtBitcoinTrader\",\n",
      "\"MetacoSA/NBitcoin\",\n",
      "\"p2pool/p2pool\",\n",
      "\"bitcoincashorg/bitcoincash.org\",\n",
      "\"igorbarinov/awesome-bitcoin\",\n",
      "\"buttercoin/buttercoin\",\n",
      "\"1200wd/bitcoinlib\",\n",
      "\"BitcoinPHP/BitcoinECDSA.php\",\n",
      "\"bitpay/bitcore\",\n",
      "\"lefnire/tforce_btc_trader\",\n",
      "\"bitpay/insight-api\",\n",
      "\"bitpay/bitcore-lib\",\n",
      "\"100trillionUSD/bitcoin\",\n",
      "\"jashmenn/bitcoin-reading-list\",\n",
      "\"bitpay/bitcoind-rpc\",\n",
      "\"zquestz/bitcoincash\",\n",
      "\"davout/bitcoin-central\",\n",
      "\"btcsuite/btcd\",\n",
      "\"ofek/bit\",\n",
      "\"bitpay/bitcore-wallet-service\",\n",
      "\"breadwallet/breadwallet-core\",\n",
      "\"ruimarinho/bitcoin-core\",\n",
      "\"dooglus/intersango\",\n",
      "\"Diablo-D3/DiabloMiner\",\n",
      "\"freewil/bitcoin-testnet-box\",\n",
      "\"mycelium-com/wallet-android\",\n",
      "\"benjyz/bitcoinArchive\",\n",
      "\"Blockstream/esplora\",\n",
      "\"butor/blackbird\",\n",
      "\"Bitlits/Bitcoin-Games\",\n",
      "\"znort987/blockparser\",\n",
      "\"kingrock/BitcoinExchange\",\n",
      "\"aceat64/EasyBitcoin-PHP\",\n",
      "\"eveybcd/BitcoinDiamond\",\n",
      "\"siminchen/bitcoinIDE\",\n",
      "\"ccxt/ccxt\",\n",
      "\"thallium205/BitcoinVisualizer\",\n",
      "\"brandonrobertz/BitcoinTradingAlgorithmToolkit\",\n",
      "\"libbitcoin/libbitcoin-explorer\",\n",
      "\"phishman3579/Bitcoin\",\n",
      "\"LedgerHQ/app-bitcoin\",\n",
      "\"SegwitB2X/bitcoin2x\",\n",
      "\"llSourcell/bitcoin_prediction\",\n",
      "\"alecalve/python-bitcoin-blockchain-parser\",\n",
      "\"fkysly/bitcoin0.1.0\",\n",
      "\"haskoin/haskoin-core\",\n",
      "\"philipperemy/deep-learning-bitcoin\",\n",
      "\"libbitcoin/libbitcoin-system\",\n",
      "\"ruimarinho/docker-bitcoin-core\",\n",
      "\"blinktrade/bitex\",\n",
      "\"bitcoin-core/HWI\",\n"
     ]
    }
   ],
   "source": [
    "for item in data['items']:\n",
    "    print('\"' + item['html_url'].replace('https://github.com/', '') + '\",')"
   ]
  },
  {
   "cell_type": "code",
   "execution_count": null,
   "id": "b96e605f-f9e9-4df2-aec2-8341c28d2151",
   "metadata": {},
   "outputs": [],
   "source": []
  }
 ],
 "metadata": {
  "kernelspec": {
   "display_name": "Python 3 (ipykernel)",
   "language": "python",
   "name": "python3"
  },
  "language_info": {
   "codemirror_mode": {
    "name": "ipython",
    "version": 3
   },
   "file_extension": ".py",
   "mimetype": "text/x-python",
   "name": "python",
   "nbconvert_exporter": "python",
   "pygments_lexer": "ipython3",
   "version": "3.9.7"
  }
 },
 "nbformat": 4,
 "nbformat_minor": 5
}
