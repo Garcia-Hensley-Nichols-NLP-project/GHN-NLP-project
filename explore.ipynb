{
 "cells": [
  {
   "cell_type": "markdown",
   "id": "6dc3c15c-a21f-48c4-bd20-0e611286d685",
   "metadata": {},
   "source": [
    "# Exploratory Analysis\n",
    "\n",
    "This notebook contains all steps performed in the exploratory analysis phase of the pipeline and all insights gained.\n",
    "\n",
    "___\n",
    "\n",
    "## The Required Imports\n",
    "\n",
    "Below are all the modules needed to run the code cells in this notebook."
   ]
  },
  {
   "cell_type": "code",
   "execution_count": 1,
   "id": "7ff4281c-1cf0-4fcd-b271-5fc2a39b80fc",
   "metadata": {},
   "outputs": [],
   "source": [
    "import warnings\n",
    "warnings.filterwarnings(\"ignore\")"
   ]
  },
  {
   "cell_type": "code",
   "execution_count": 49,
   "id": "5fa04a44-fa2d-4e98-adf1-0532bc1b13d1",
   "metadata": {},
   "outputs": [],
   "source": [
    "import re\n",
    "\n",
    "import numpy as np\n",
    "import pandas as pd\n",
    "import matplotlib.pyplot as plt\n",
    "import seaborn as sns\n",
    "from scipy import stats\n",
    "\n",
    "import nltk\n",
    "from wordcloud import WordCloud\n",
    "\n",
    "from prepare import words_explore, words\n",
    "from preprocessing import split_data"
   ]
  },
  {
   "cell_type": "markdown",
   "id": "ba72a2a7-047f-4519-8479-b833ab48b54b",
   "metadata": {},
   "source": [
    "___\n",
    "\n",
    "## Acquire and Prepare the Data\n",
    "\n",
    "Now we will acquire and prepare the data that we'll be using throughout this notebook."
   ]
  },
  {
   "cell_type": "code",
   "execution_count": 3,
   "id": "bdf5d967-9a36-4030-aee6-a85def4fbce0",
   "metadata": {},
   "outputs": [
    {
     "name": "stdout",
     "output_type": "stream",
     "text": [
      "<class 'pandas.core.frame.DataFrame'>\n",
      "RangeIndex: 100 entries, 0 to 99\n",
      "Data columns (total 3 columns):\n",
      " #   Column           Non-Null Count  Dtype \n",
      "---  ------           --------------  ----- \n",
      " 0   repo             100 non-null    object\n",
      " 1   language         96 non-null     object\n",
      " 2   readme_contents  100 non-null    object\n",
      "dtypes: object(3)\n",
      "memory usage: 2.5+ KB\n"
     ]
    }
   ],
   "source": [
    "# First we acquire the data by reading the data.json file.\n",
    "df = pd.read_json('data.json')\n",
    "df.info()"
   ]
  },
  {
   "cell_type": "code",
   "execution_count": 4,
   "id": "883e9a76-a1c0-4ded-8412-1d52d097d1c0",
   "metadata": {},
   "outputs": [
    {
     "name": "stdout",
     "output_type": "stream",
     "text": [
      "<class 'pandas.core.frame.DataFrame'>\n",
      "RangeIndex: 100 entries, 0 to 99\n",
      "Data columns (total 6 columns):\n",
      " #   Column      Non-Null Count  Dtype \n",
      "---  ------      --------------  ----- \n",
      " 0   repo        100 non-null    object\n",
      " 1   language    100 non-null    object\n",
      " 2   readme      100 non-null    object\n",
      " 3   clean       100 non-null    object\n",
      " 4   stemmed     100 non-null    object\n",
      " 5   lemmatized  100 non-null    object\n",
      "dtypes: object(6)\n",
      "memory usage: 4.8+ KB\n"
     ]
    }
   ],
   "source": [
    "# Now we prepare it using the words function from the prepare module\n",
    "df = words_explore(df)\n",
    "df.info()"
   ]
  },
  {
   "cell_type": "markdown",
   "id": "91742ee8-7b42-47d3-865c-b5647aa6a121",
   "metadata": {},
   "source": [
    "___\n",
    "\n",
    "## Split the Data\n",
    "\n",
    "Now we will split the data into three datasets: train, validate, and test. The train set will be the one we explore in this notebook and the one used for training machine learning models. Validate and test will serve as unseen data in the modeling phase of the pipeline."
   ]
  },
  {
   "cell_type": "code",
   "execution_count": 5,
   "id": "7aa09dd2-5a71-4198-b46c-dd31d5d5457d",
   "metadata": {},
   "outputs": [
    {
     "data": {
      "text/plain": [
       "((56, 6), (24, 6), (20, 6))"
      ]
     },
     "execution_count": 5,
     "metadata": {},
     "output_type": "execute_result"
    }
   ],
   "source": [
    "# Here we will split the data using the split_data function from the preprocessing module.\n",
    "train, validate, test = split_data(df, stratify = 'language')\n",
    "train.shape, validate.shape, test.shape"
   ]
  },
  {
   "cell_type": "code",
   "execution_count": 6,
   "id": "3fb8d9ce-36d8-42cd-a653-b13a93a7761f",
   "metadata": {},
   "outputs": [
    {
     "name": "stdout",
     "output_type": "stream",
     "text": [
      "<class 'pandas.core.frame.DataFrame'>\n",
      "Int64Index: 56 entries, 11 to 7\n",
      "Data columns (total 6 columns):\n",
      " #   Column      Non-Null Count  Dtype \n",
      "---  ------      --------------  ----- \n",
      " 0   repo        56 non-null     object\n",
      " 1   language    56 non-null     object\n",
      " 2   readme      56 non-null     object\n",
      " 3   clean       56 non-null     object\n",
      " 4   stemmed     56 non-null     object\n",
      " 5   lemmatized  56 non-null     object\n",
      "dtypes: object(6)\n",
      "memory usage: 3.1+ KB\n"
     ]
    }
   ],
   "source": [
    "train.info()"
   ]
  },
  {
   "cell_type": "markdown",
   "id": "d03321cf-953f-4bb6-8909-cd3da227bf77",
   "metadata": {},
   "source": [
    "For the rest of this notebook we'll only be using the train dataset.\n",
    "\n",
    "___\n",
    "\n",
    "## Univariate Analysis\n",
    "\n",
    "In this section we'll be focusing on exploring only single variables in the data.\n",
    "\n",
    "### Exploring the Target Variable\n",
    "\n",
    "Let's see how the target variable is distributed. This will help us determine if there are imbalances in the data and possibly will help us determine the ideal performance metric to use in modeling. This will also let us know what values we are trying to predict."
   ]
  },
  {
   "cell_type": "code",
   "execution_count": 7,
   "id": "e25951c4-e89a-4176-aee0-afb24a65db20",
   "metadata": {},
   "outputs": [
    {
     "data": {
      "image/png": "[encoded data removed]",
      "text/plain": [
       "<Figure size 1008x288 with 1 Axes>"
      ]
     },
     "metadata": {
      "needs_background": "light"
     },
     "output_type": "display_data"
    }
   ],
   "source": [
    "# Plot histogram of the target variable\n",
    "\n",
    "plt.figure(figsize = (14, 4))\n",
    "sns.histplot(data = train, x = 'language')\n",
    "plt.title('Most repos have a primary language that is not in the top 3 (Python, C++, JavaScript)');"
   ]
  },
  {
   "cell_type": "markdown",
   "id": "f1c8a02e-fd68-4b2b-bba0-54bdf79b177b",
   "metadata": {},
   "source": [
    "**Takeaways:**\n",
    "- The distribution among the top 3 programming languages (Python, C++, and JavaScript) is fairly uniform. Most target languages are some other language though.\n",
    "- Accuracy could be a good metric to use, but if accuracy proves to be an untrustworthy metric focusing on the top 3 languages might be preferable.\n",
    "- There is some imbalance in the target variable, but we would need more data to determine if the imbalance is truly a problem.\n",
    "\n",
    "### Word Frequencies in Clean Text\n",
    "\n",
    "Let's look at the most frequent words in the cleaned version of the READMEs."
   ]
  },
  {
   "cell_type": "code",
   "execution_count": 8,
   "id": "c25ad19c-f6f3-4b72-bbcf-01baf1fbb6a4",
   "metadata": {},
   "outputs": [],
   "source": [
    "# Join all readmes into one string\n",
    "\n",
    "clean_words = ' '.join(readme for readme in df.clean)"
   ]
  },
  {
   "cell_type": "code",
   "execution_count": 9,
   "id": "00505b2f-4585-4db7-b769-f98a04dc7321",
   "metadata": {},
   "outputs": [
    {
     "data": {
      "image/png": "[encoded data removed]",
      "text/plain": [
       "<Figure size 1008x288 with 1 Axes>"
      ]
     },
     "metadata": {
      "needs_background": "light"
     },
     "output_type": "display_data"
    }
   ],
   "source": [
    "# Plot top 20 words\n",
    "\n",
    "plt.figure(figsize = (14, 4))\n",
    "clean_words_freq = pd.Series(clean_words.split())\n",
    "clean_words_freq.value_counts().head(20).plot.barh()\n",
    "plt.title('There are some unusual words here. Otherwise bitcoin is not surprisingly the most frequent word.');"
   ]
  },
  {
   "cell_type": "markdown",
   "id": "d1a0a553-3dff-4ed4-8709-81e693e090df",
   "metadata": {},
   "source": [
    "**Takeaways:**\n",
    "- There are a few unusual words in the top 20 (', &#9;, l). We'll have to see if these show up throughout the notebook and if they do we'll need to update the prepare script to exclude these.\n",
    "- We do see python mentioned frequently. This could be helpful especially if python is mentioned in repos where python is the primary language.\n",
    "\n",
    "### Word Frequencies in Stemmed\n",
    "\n",
    "Now let's look at the word frequencies in the stemmed version of the READMEs."
   ]
  },
  {
   "cell_type": "code",
   "execution_count": 10,
   "id": "b6412aad-66c9-4e80-a5a4-58a7b5ca7c78",
   "metadata": {},
   "outputs": [],
   "source": [
    "# Join all readmes into one string\n",
    "\n",
    "stemmed_words = ' '.join(readme for readme in df.stemmed)"
   ]
  },
  {
   "cell_type": "code",
   "execution_count": 11,
   "id": "1384f3d7-c5b7-4c4f-8b50-8d6bea6d4ae2",
   "metadata": {},
   "outputs": [
    {
     "data": {
      "image/png": "[encoded data removed]",
      "text/plain": [
       "<Figure size 1008x288 with 1 Axes>"
      ]
     },
     "metadata": {
      "needs_background": "light"
     },
     "output_type": "display_data"
    }
   ],
   "source": [
    "# Plot top 20 words\n",
    "\n",
    "plt.figure(figsize = (14, 4))\n",
    "stemmed_words_freq = pd.Series(stemmed_words.split())\n",
    "stemmed_words_freq.value_counts().head(20).plot.barh()\n",
    "plt.title('Results are similar to the cleaned word frequencies.');"
   ]
  },
  {
   "cell_type": "markdown",
   "id": "40b28b94-d81e-45e1-81de-a92de2e0d55c",
   "metadata": {},
   "source": [
    "**Takeaways:**\n",
    "- Not much new takeaways here.\n",
    "\n",
    "### Word Frequencies in Lemmatized\n",
    "\n",
    "Finally, let's look at the word frequencies in the lemmatized versions of the READMEs."
   ]
  },
  {
   "cell_type": "code",
   "execution_count": 12,
   "id": "d65c94a8-f8dc-46f4-96d2-f9b55d355837",
   "metadata": {},
   "outputs": [],
   "source": [
    "# Join all readmes into one string\n",
    "\n",
    "lemmatized_words = ' '.join(readme for readme in df.lemmatized)"
   ]
  },
  {
   "cell_type": "code",
   "execution_count": 13,
   "id": "97fab1cf-b8d1-4102-a40d-8d72c0545151",
   "metadata": {},
   "outputs": [
    {
     "data": {
      "image/png": "[encoded data removed]",
      "text/plain": [
       "<Figure size 1008x288 with 1 Axes>"
      ]
     },
     "metadata": {
      "needs_background": "light"
     },
     "output_type": "display_data"
    }
   ],
   "source": [
    "# Plot top 20 words\n",
    "\n",
    "plt.figure(figsize = (14, 4))\n",
    "lemmatized_words_freq = pd.Series(lemmatized_words.split())\n",
    "lemmatized_words_freq.value_counts().head(20).plot.barh()\n",
    "plt.title('Again not much difference here.');"
   ]
  },
  {
   "cell_type": "markdown",
   "id": "1306b89f-ec86-4cc8-9d7b-2eb7937f085e",
   "metadata": {},
   "source": [
    "**Takeaways:**\n",
    "- Similar results as before.\n",
    "\n",
    "### Takeaways\n",
    "\n",
    "There are some words that we may need to add to the exclude_words list for removing stopwords since they don't provide much value to us. Otherwise, a lot of the most common words are fairly general such as bitcoin, version, api, etc. We'll need to see how these word frequencies vary between each target class.\n",
    "\n",
    "___\n",
    "\n",
    "## Bivariate Analysis\n",
    "\n",
    "In this section we'll see how the word frequencies vary by target class.\n",
    "\n",
    "### Word Frequencies in Clean by Target Class\n",
    "\n",
    "Let's look at the word frequencies again, but this time looking at each individual target class."
   ]
  },
  {
   "cell_type": "code",
   "execution_count": 14,
   "id": "7498ae2c-f2e9-4f12-b491-b2beb8aaa13d",
   "metadata": {},
   "outputs": [],
   "source": [
    "# Let's start by creating masks to separate each target class\n",
    "\n",
    "python = df.language == 'Python'\n",
    "c_plus_plus = df.language == 'C++'\n",
    "javascript = df.language == 'JavaScript'\n",
    "other = df.language == 'other'"
   ]
  },
  {
   "cell_type": "code",
   "execution_count": 15,
   "id": "4ff917bd-1fe9-40f5-83d3-23079e92a80d",
   "metadata": {},
   "outputs": [],
   "source": [
    "# Now let's see word frequencies specifically for python repos.\n",
    "\n",
    "python_clean_words = ' '.join(readme for readme in df[python].clean)"
   ]
  },
  {
   "cell_type": "code",
   "execution_count": 16,
   "id": "86d2a286-d464-45c3-8c5b-2773e1d7c0ef",
   "metadata": {},
   "outputs": [
    {
     "data": {
      "image/png": "[encoded data removed]",
      "text/plain": [
       "<Figure size 1008x288 with 1 Axes>"
      ]
     },
     "metadata": {
      "needs_background": "light"
     },
     "output_type": "display_data"
    }
   ],
   "source": [
    "# Plot top 25 words\n",
    "\n",
    "plt.figure(figsize = (14, 4))\n",
    "python_clean_words_freq = pd.Series(python_clean_words.split())\n",
    "python_clean_words_freq.value_counts().head(25).plot.barh()\n",
    "plt.title('Python keywords are common in Python repos.');"
   ]
  },
  {
   "cell_type": "markdown",
   "id": "01eea69b-49cb-4b18-b477-750dda27100f",
   "metadata": {},
   "source": [
    "**Takeaways:**\n",
    "- Python keywords are often mentioned in Python repos, such as \"python\", \"import\", \"pip\", and \"pddataframe\".\n",
    "- \"install\" is the most frequent word, could be in relation to \"pip install\"."
   ]
  },
  {
   "cell_type": "code",
   "execution_count": 17,
   "id": "87a60f3e-4a9c-414b-bbc4-ce62f8ab5fbe",
   "metadata": {},
   "outputs": [],
   "source": [
    "# Now let's see word frequencies specifically for c++ repos.\n",
    "\n",
    "c_plus_plus_clean_words = ' '.join(readme for readme in df[c_plus_plus].clean)"
   ]
  },
  {
   "cell_type": "code",
   "execution_count": 18,
   "id": "617579bc-ca68-4aca-bd22-d845eb84f9df",
   "metadata": {},
   "outputs": [
    {
     "data": {
      "image/png": "[encoded data removed]",
      "text/plain": [
       "<Figure size 1008x288 with 1 Axes>"
      ]
     },
     "metadata": {
      "needs_background": "light"
     },
     "output_type": "display_data"
    }
   ],
   "source": [
    "# Plot top 25 words\n",
    "\n",
    "plt.figure(figsize = (14, 4))\n",
    "c_plus_plus_clean_words_freq = pd.Series(c_plus_plus_clean_words.split())\n",
    "c_plus_plus_clean_words_freq.value_counts().head(25).plot.barh()\n",
    "plt.title('Bitcoin is by far most common in C++ repos. Blackbird might be related to C++.');"
   ]
  },
  {
   "cell_type": "markdown",
   "id": "9328f0e5-c491-4d20-8366-6a0a640eb58d",
   "metadata": {},
   "source": [
    "**Takeaways:**\n",
    "- bitcoin is most common word followed by fixed.\n",
    "- blackbird might help identify c++ repos."
   ]
  },
  {
   "cell_type": "code",
   "execution_count": 19,
   "id": "20c04121-9ecb-4b1a-94f5-3e0ed8db511c",
   "metadata": {},
   "outputs": [],
   "source": [
    "# Now let's see word frequencies specifically for javascript repos.\n",
    "\n",
    "javascript_clean_words = ' '.join(readme for readme in df[javascript].clean)"
   ]
  },
  {
   "cell_type": "code",
   "execution_count": 20,
   "id": "95125918-22a6-4de4-aa37-e2ec45b5d749",
   "metadata": {},
   "outputs": [
    {
     "data": {
      "image/png": "[encoded data removed]",
      "text/plain": [
       "<Figure size 1008x288 with 1 Axes>"
      ]
     },
     "metadata": {
      "needs_background": "light"
     },
     "output_type": "display_data"
    }
   ],
   "source": [
    "# Plot top 25 words\n",
    "\n",
    "plt.figure(figsize = (14, 4))\n",
    "javascript_clean_words_freq = pd.Series(javascript_clean_words.split())\n",
    "javascript_clean_words_freq.value_counts().head(25).plot.barh()\n",
    "plt.title('We do see js mentioned here. ccxt is a js library which might help identify javascript repos.');"
   ]
  },
  {
   "cell_type": "markdown",
   "id": "34bcd97f-2840-446f-b88f-abc17efab018",
   "metadata": {},
   "source": [
    "**Takeaways:**\n",
    "- There are some incredibly long strings here. Not sure if this is how they are in the READMEs or if it is a result of the preparation.\n",
    "- js, docker, and ccxt are frequent words which could help specifically identify javascript repos"
   ]
  },
  {
   "cell_type": "code",
   "execution_count": 21,
   "id": "caa4b52b-a79d-4b57-b678-44a7bc83315f",
   "metadata": {},
   "outputs": [],
   "source": [
    "# Now let's see word frequencies specifically for other repos.\n",
    "\n",
    "other_clean_words = ' '.join(readme for readme in df[other].clean)"
   ]
  },
  {
   "cell_type": "code",
   "execution_count": 22,
   "id": "b6625a25-0e4f-4340-8f0f-464f70a9a5b3",
   "metadata": {},
   "outputs": [
    {
     "data": {
      "image/png": "[encoded data removed]",
      "text/plain": [
       "<Figure size 1008x288 with 1 Axes>"
      ]
     },
     "metadata": {
      "needs_background": "light"
     },
     "output_type": "display_data"
    }
   ],
   "source": [
    "# Plot top 20 words\n",
    "\n",
    "plt.figure(figsize = (14, 4))\n",
    "other_clean_words_freq = pd.Series(other_clean_words.split())\n",
    "other_clean_words_freq.value_counts().head(20).plot.barh()\n",
    "plt.title('There are more general words here.');"
   ]
  },
  {
   "cell_type": "markdown",
   "id": "251e2000-7cc5-450a-85ab-78f23000c70f",
   "metadata": {},
   "source": [
    "**Takeaways:**\n",
    "- We see a lot more general words here like \"bitcoin\", \"transaction\", \"use\", and \"standard\".\n",
    "- Could possibly say that if a readme does not fit the other 3 classes than it is other.\n",
    "\n",
    "#### Takeaways\n",
    "\n",
    "There are certain keywords that could be indicative of a repo being primarily a specific language. These are keywords like \"python\", \"pip\", and \"pddataframe\" for Python repos, \"blackbird\" and possibly \"windows\" for C++ repos, and \"js\", \"docker\", and \"ccxt\" for JavaScript repos.\n",
    "\n",
    "Additionally there are some words that are fairly frequent across all target classes such as \"bitcoin\" and \"install\" that could possibly be ignored since they don't provide much value to us.\n",
    "\n",
    "### Does README size vary by programming language?\n",
    "\n",
    "We want to know if the size of a README may vary depending on the primary programming language for the repo. We'll look at several metrics for determining the size of the README: character count, word count, and sentence count.\n",
    "\n",
    "#### Character Count"
   ]
  },
  {
   "cell_type": "code",
   "execution_count": 23,
   "id": "40aa7fd2-5b5e-425b-a5ef-7c63713930b3",
   "metadata": {},
   "outputs": [
    {
     "data": {
      "text/plain": [
       "0     2338\n",
       "1     5074\n",
       "2    20030\n",
       "3    10992\n",
       "4     3214\n",
       "Name: character_count, dtype: int64"
      ]
     },
     "execution_count": 23,
     "metadata": {},
     "output_type": "execute_result"
    }
   ],
   "source": [
    "# Create a character_count feature\n",
    "\n",
    "df['character_count'] = df.clean.apply(len)\n",
    "df.character_count.head()"
   ]
  },
  {
   "cell_type": "code",
   "execution_count": 31,
   "id": "86a85401-f0d0-4bdb-8cc7-1a9383dff4b1",
   "metadata": {},
   "outputs": [
    {
     "name": "stdout",
     "output_type": "stream",
     "text": [
      "Python average character count: 2969.6111111111113\n",
      "C++ average character count: 2643.705882352941\n",
      "JavaScript average character count: 7670.5\n",
      "Other average character count: 4631.509433962264\n"
     ]
    }
   ],
   "source": [
    "# Now let's see how the average character count varies by target class.\n",
    "\n",
    "print(f'Python average character count: {df[python].character_count.mean()}')\n",
    "print(f'C++ average character count: {df[c_plus_plus].character_count.mean()}')\n",
    "print(f'JavaScript average character count: {df[javascript].character_count.mean()}')\n",
    "print(f'Other average character count: {df[other].character_count.mean()}')"
   ]
  },
  {
   "cell_type": "markdown",
   "id": "5db87f0f-1f03-4a09-8ace-bc364b04561a",
   "metadata": {},
   "source": [
    "It looks like READMEs for JavaScript repos tend to be larger in size. Let's see if there is a statistically significant difference."
   ]
  },
  {
   "cell_type": "code",
   "execution_count": 32,
   "id": "85fb91f4-687a-472e-995d-58b631ffa1eb",
   "metadata": {},
   "outputs": [
    {
     "data": {
      "image/png": "[encoded data removed]",
      "text/plain": [
       "<Figure size 432x288 with 1 Axes>"
      ]
     },
     "metadata": {
      "needs_background": "light"
     },
     "output_type": "display_data"
    }
   ],
   "source": [
    "# We'll test the following hypothesis:\n",
    "# H0: The average character count for READMEs in JavaScript repos is equal to the average \n",
    "# character count for all READMEs.\n",
    "# Ha: The average character count for READMEs in JavaScript repos is greater than the average \n",
    "# character count for all READMEs.\n",
    "\n",
    "# But first we'll need to determine if our sample is normally distributed.\n",
    "\n",
    "df[javascript].character_count.plot.hist();"
   ]
  },
  {
   "cell_type": "code",
   "execution_count": 33,
   "id": "bcec87e3-0ad5-46d5-955e-6651c91ea397",
   "metadata": {},
   "outputs": [
    {
     "data": {
      "text/plain": [
       "(12, 10)"
      ]
     },
     "execution_count": 33,
     "metadata": {},
     "output_type": "execute_result"
    }
   ],
   "source": [
    "df[javascript].shape"
   ]
  },
  {
   "cell_type": "code",
   "execution_count": 41,
   "id": "897e9069-525d-4672-9cce-c7df3892751f",
   "metadata": {},
   "outputs": [
    {
     "name": "stdout",
     "output_type": "stream",
     "text": [
      "Reject H0\n"
     ]
    }
   ],
   "source": [
    "# We cannot make the assumption that the target is normally distributed.\n",
    "\n",
    "alpha = 0.05\n",
    "\n",
    "t, p = stats.ttest_1samp(df[javascript].character_count, df.character_count.mean(), alternative = 'greater')\n",
    "\n",
    "if p < alpha:\n",
    "    print('Fail to reject H0')\n",
    "else:\n",
    "    print('Reject H0')"
   ]
  },
  {
   "cell_type": "markdown",
   "id": "73b108f6-5cde-4cc8-9aa7-8bd4a379823e",
   "metadata": {},
   "source": [
    "We reject the null hypothesis meaning that for JavaScript repos the average character count of the README is significantly greater than the average character count for all READMEs. However, this should be taken with a grain of salt since we do not have a large number of javascript repos to test this hypothesis with.\n",
    "\n",
    "#### Word Count"
   ]
  },
  {
   "cell_type": "code",
   "execution_count": 42,
   "id": "c99c5a1f-bb22-4534-b33c-d9bcd3494a1c",
   "metadata": {},
   "outputs": [],
   "source": [
    "# Create a word_count feature\n",
    "\n",
    "df['word_count'] = df.clean.apply(lambda text: len(text.split()))"
   ]
  },
  {
   "cell_type": "code",
   "execution_count": 43,
   "id": "406dc0a0-0f19-4aec-9763-73bc07c94f66",
   "metadata": {},
   "outputs": [
    {
     "data": {
      "text/plain": [
       "0     264\n",
       "1     420\n",
       "2    2124\n",
       "3     834\n",
       "4     337\n",
       "Name: word_count, dtype: int64"
      ]
     },
     "execution_count": 43,
     "metadata": {},
     "output_type": "execute_result"
    }
   ],
   "source": [
    "df.word_count.head()"
   ]
  },
  {
   "cell_type": "code",
   "execution_count": 44,
   "id": "b708a5e6-d064-4735-b2dc-0cfaed743f3a",
   "metadata": {},
   "outputs": [
    {
     "name": "stdout",
     "output_type": "stream",
     "text": [
      "Python average word count: 339.05555555555554\n",
      "C++ average word count: 314.0\n",
      "JavaScript average word count: 535.4166666666666\n",
      "Other average word count: 457.47169811320754\n"
     ]
    }
   ],
   "source": [
    "# Now let's see how the average word count varies by target class.\n",
    "\n",
    "print(f'Python average word count: {df[python].word_count.mean()}')\n",
    "print(f'C++ average word count: {df[c_plus_plus].word_count.mean()}')\n",
    "print(f'JavaScript average word count: {df[javascript].word_count.mean()}')\n",
    "print(f'Other average word count: {df[other].word_count.mean()}')"
   ]
  },
  {
   "cell_type": "markdown",
   "id": "1c56c545-b438-49fc-8e97-43a58dfb2c18",
   "metadata": {},
   "source": [
    "This is similar to the results obtained for character count. We'll move on.\n",
    "\n",
    "### N-grams vs. Target Variable\n",
    "\n",
    "Now let's try creating bi-grams and tri-grams to see if this might provide better insights into what the target class might be for a given README."
   ]
  },
  {
   "cell_type": "code",
   "execution_count": 50,
   "id": "4c34ba19-3862-4af4-8ed0-74545a730ef1",
   "metadata": {},
   "outputs": [
    {
     "data": {
      "text/plain": [
       "(api, version)                                                                                         131\n",
       "(bitcoin, core)                                                                                         81\n",
       "(', ')                                                                                                  58\n",
       "(ccxt, prohttpsimgshieldsiobadgeccxtproblackhttpsccxtpro)                                               54\n",
       "(stylebackgroundcolor, cfffcf)                                                                          43\n",
       "(stylebackgroundcolor, ffcfcf)                                                                          42\n",
       "(&#9;, &#9;)                                                                                            41\n",
       "(final, stylebackgroundcolor)                                                                           36\n",
       "(git, clone)                                                                                            36\n",
       "(standard, final)                                                                                       34\n",
       "(standard, draft)                                                                                       34\n",
       "(consensus, soft)                                                                                       33\n",
       "(soft, fork)                                                                                            33\n",
       "(docker, run)                                                                                           31\n",
       "(currency, pairs)                                                                                       31\n",
       "(ccxt, certifiedhttpsimgshieldsiobadgeccxtcertifiedgreensvghttpsgithubcomccxtccxtwikicertification)     30\n",
       "(sudo, aptget)                                                                                          29\n",
       "(aptget, install)                                                                                       28\n",
       "(certifiedhttpsimgshieldsiobadgeccxtcertifiedgreensvghttpsgithubcomccxtccxtwikicertification, ccxt)     28\n",
       "(&#9;, x)                                                                                               27\n",
       "dtype: int64"
      ]
     },
     "execution_count": 50,
     "metadata": {},
     "output_type": "execute_result"
    }
   ],
   "source": [
    "# Let's generate some bi-grams for all READMEs and for each target class.\n",
    "\n",
    "all_bigrams = pd.Series(nltk.bigrams(clean_words.split()))\n",
    "all_bigrams.value_counts().head(20)"
   ]
  },
  {
   "cell_type": "markdown",
   "id": "0f6dfb72-503d-4566-ba8c-9db21f50f996",
   "metadata": {},
   "source": [
    "## Feature Engineering\n",
    "\n",
    "In this section we will perform some feature engineering to create features that may be useful in the modeling phase of the pipeline.\n",
    "\n",
    "### Identifying Keywords for Specific Target Classes\n",
    "\n",
    "Here we will create a feature that determines if certain keywords common for a specific programming language are present in the README. The keywords we'll be looking for are the following:\n",
    "\n",
    "- \"python\", \"python3\", \"import\", \"pip\", and \"pddataframe\" for Python repos.\n",
    "- \"windows\", \"linux\", and \"blackbird\" for C++ repos.\n",
    "- \"js\", \"docker\", \"npm\", and \"ccxt\" for JavaScript repos.\n",
    "\n",
    "Any README that does not fit into one of these three categories will be classified as other."
   ]
  },
  {
   "cell_type": "code",
   "execution_count": 25,
   "id": "3b07b31f-6ce0-49de-a4b9-0cc81b0cdd0c",
   "metadata": {},
   "outputs": [
    {
     "data": {
      "text/plain": [
       "True     16\n",
       "False     2\n",
       "Name: clean, dtype: int64"
      ]
     },
     "execution_count": 25,
     "metadata": {},
     "output_type": "execute_result"
    }
   ],
   "source": [
    "# Let's start with the Python keywords. We want to know if finding one of the keywords is fairly indicative\n",
    "# of the repo being a Python repo.\n",
    "\n",
    "keywords = [\n",
    "    'python',\n",
    "    'import',\n",
    "    'pip',\n",
    "    'pddataframe',\n",
    "    'python3'\n",
    "]\n",
    "\n",
    "df[python].clean.str.contains(r'(python)|(import)|(pip)|(pddataframe)|(python3)', regex = True).value_counts()"
   ]
  },
  {
   "cell_type": "markdown",
   "id": "6de31c81-3c25-416d-8656-e3df9d16c5dc",
   "metadata": {},
   "source": [
    "It looks like most Python repos do have one of those keywords."
   ]
  },
  {
   "cell_type": "code",
   "execution_count": 26,
   "id": "0b638770-8b47-466a-8b51-40d7d1ad4e73",
   "metadata": {},
   "outputs": [
    {
     "data": {
      "text/plain": [
       "True     9\n",
       "False    8\n",
       "Name: clean, dtype: int64"
      ]
     },
     "execution_count": 26,
     "metadata": {},
     "output_type": "execute_result"
    }
   ],
   "source": [
    "# Now let's try the C++ keywords. We want to know if finding one of the keywords is fairly indicative\n",
    "# of the repo being a C++ repo.\n",
    "\n",
    "keywords = [\n",
    "    'windows',\n",
    "    'linux',\n",
    "    'blackbird'\n",
    "]\n",
    "\n",
    "df[c_plus_plus].clean.str.contains(r'(windows)|(linux)|(blackbird)', regex = True).value_counts()"
   ]
  },
  {
   "cell_type": "markdown",
   "id": "bceb7830-b059-44b4-967e-724f619e33f0",
   "metadata": {},
   "source": [
    "That's slightly helpful, but half of the repos do not have one of the keywords."
   ]
  },
  {
   "cell_type": "code",
   "execution_count": 27,
   "id": "55501b46-f46b-4789-9b31-cafe7e3c4a15",
   "metadata": {},
   "outputs": [
    {
     "data": {
      "text/plain": [
       "True     8\n",
       "False    4\n",
       "Name: clean, dtype: int64"
      ]
     },
     "execution_count": 27,
     "metadata": {},
     "output_type": "execute_result"
    }
   ],
   "source": [
    "# Now let's try the JavaScript keywords. We want to know if finding one of the keywords is fairly indicative\n",
    "# of the repo being a JavaScript repo.\n",
    "\n",
    "keywords = [\n",
    "    'js',\n",
    "    'docker',\n",
    "    'ccxt',\n",
    "    'npm'\n",
    "]\n",
    "\n",
    "df[javascript].clean.str.contains(r'(js)|(docker)|(ccxt)|(npm)', regex = True).value_counts()"
   ]
  },
  {
   "cell_type": "markdown",
   "id": "4f45b1a4-cfb7-4d03-82e2-1ccaaf48b4ac",
   "metadata": {},
   "source": [
    "Most of the repos do have one of these keywords."
   ]
  },
  {
   "cell_type": "code",
   "execution_count": 28,
   "id": "d0a6aaec-bacc-400f-a873-246b7dddf1a5",
   "metadata": {},
   "outputs": [],
   "source": [
    "# Now let's try creating this feature. It will be easier to create three separate features for this:\n",
    "# 'contains_python_keywords', 'contains_cpp_keywords', and 'contains_js_keywords'\n",
    "\n",
    "df['contains_python_keywords'] = df.clean.str.contains(r'(python)|(import)|(pip)|(pddataframe)|(python3)', regex = True).astype(int)\n",
    "df['contains_cpp_keywords'] = df.clean.str.contains(r'(windows)|(linux)|(blackbird)', regex = True).astype(int)\n",
    "df['contains_js_keywords'] = df.clean.str.contains(r'(js)|(docker)|(ccxt)|(npm)', regex = True).astype(int)"
   ]
  },
  {
   "cell_type": "code",
   "execution_count": 29,
   "id": "9e62ce6f-1406-4e8b-bc05-452f48e7b53a",
   "metadata": {},
   "outputs": [
    {
     "data": {
      "image/png": "[encoded data removed]",
      "text/plain": [
       "<Figure size 1008x864 with 3 Axes>"
      ]
     },
     "metadata": {
      "needs_background": "light"
     },
     "output_type": "display_data"
    }
   ],
   "source": [
    "fig, ax = plt.subplots(ncols = 1, nrows = 3, figsize = (14, 12))\n",
    "\n",
    "sns.histplot(data = df.contains_python_keywords, ax = ax[0])\n",
    "sns.histplot(data = (df.language == 'Python').astype(int), alpha = 0.4, color = 'red', ax = ax[0])\n",
    "\n",
    "sns.histplot(data = df.contains_cpp_keywords, ax = ax[1])\n",
    "sns.histplot(data = (df.language == 'C++').astype(int), alpha = 0.4, color = 'red', ax = ax[1])\n",
    "\n",
    "sns.histplot(data = df.contains_js_keywords, ax = ax[2])\n",
    "sns.histplot(data = (df.language == 'JavaScript').astype(int), alpha = 0.4, color = 'red', ax = ax[2]);"
   ]
  },
  {
   "cell_type": "markdown",
   "id": "ec17d1f0-8532-43e7-9e81-242fbc0b4bc4",
   "metadata": {},
   "source": [
    "These features do help to correctly identify the target for some repos, but they also seem to find keywords in repos where the primary programming language is something else."
   ]
  },
  {
   "cell_type": "code",
   "execution_count": null,
   "id": "77a783d8-ee71-4745-b28f-de2cca255650",
   "metadata": {},
   "outputs": [],
   "source": []
  }
 ],
 "metadata": {
  "kernelspec": {
   "display_name": "Python 3 (ipykernel)",
   "language": "python",
   "name": "python3"
  },
  "language_info": {
   "codemirror_mode": {
    "name": "ipython",
    "version": 3
   },
   "file_extension": ".py",
   "mimetype": "text/x-python",
   "name": "python",
   "nbconvert_exporter": "python",
   "pygments_lexer": "ipython3",
   "version": "3.9.7"
  }
 },
 "nbformat": 4,
 "nbformat_minor": 5
}
