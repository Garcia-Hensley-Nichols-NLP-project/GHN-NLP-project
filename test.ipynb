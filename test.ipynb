{
 "cells": [
  {
   "cell_type": "code",
   "execution_count": 1,
   "id": "d2eb0245-3989-4ce3-b760-7e95ff0a43c9",
   "metadata": {},
   "outputs": [],
   "source": [
    "import requests\n",
    "from env import github_token"
   ]
  },
  {
   "cell_type": "code",
   "execution_count": 9,
   "id": "6e541549-0878-4bcf-a205-72e7933f16dd",
   "metadata": {},
   "outputs": [],
   "source": [
    "headers = {'Authorization' : f'token {github_token}', 'user-agent' : 'alegarcia-dev'}\n",
    "data = requests.get('https://api.github.com/search/repositories?q=bitcoin&per_page=100')"
   ]
  },
  {
   "cell_type": "code",
   "execution_count": 10,
   "id": "2afc1106-4f15-467c-b04d-e86305ef7638",
   "metadata": {},
   "outputs": [],
   "source": [
    "data = data.json()"
   ]
  },
  {
   "cell_type": "code",
   "execution_count": 11,
   "id": "708f393c-55ce-439d-9df7-1f2a0fb876bd",
   "metadata": {},
   "outputs": [
    {
     "data": {
      "text/plain": [
       "dict_keys(['total_count', 'incomplete_results', 'items'])"
      ]
     },
     "execution_count": 11,
     "metadata": {},
     "output_type": "execute_result"
    }
   ],
   "source": [
    "data.keys()"
   ]
  },
  {
   "cell_type": "code",
   "execution_count": 12,
   "id": "34ec0b60-3f1b-42dd-af66-3b25705ec383",
   "metadata": {},
   "outputs": [
    {
     "data": {
      "text/plain": [
       "57582"
      ]
     },
     "execution_count": 12,
     "metadata": {},
     "output_type": "execute_result"
    }
   ],
   "source": [
    "data['total_count']"
   ]
  },
  {
   "cell_type": "code",
   "execution_count": 7,
   "id": "9495baeb-21aa-44c3-9b73-3e91c1c37776",
   "metadata": {},
   "outputs": [
    {
     "data": {
      "text/plain": [
       "'https://github.com/bitcoin/bitcoin'"
      ]
     },
     "execution_count": 7,
     "metadata": {},
     "output_type": "execute_result"
    }
   ],
   "source": [
    "data['items'][0]['html_url']"
   ]
  },
  {
   "cell_type": "code",
   "execution_count": 13,
   "id": "745ec476-4400-49d3-9647-af3de437e2c7",
   "metadata": {},
   "outputs": [
    {
     "data": {
      "text/plain": [
       "100"
      ]
     },
     "execution_count": 13,
     "metadata": {},
     "output_type": "execute_result"
    }
   ],
   "source": [
    "len(data['items'])"
   ]
  },
  {
   "cell_type": "code",
   "execution_count": 14,
   "id": "de6034d4-e045-4621-a7a3-d56569614830",
   "metadata": {},
   "outputs": [
    {
     "name": "stdout",
     "output_type": "stream",
     "text": [
      "https://github.com/bitcoin/bitcoin\n",
      "https://github.com/bitcoinbook/bitcoinbook\n",
      "https://github.com/bitcoin/bips\n",
      "https://github.com/bitcoinjs/bitcoinjs-lib\n",
      "https://github.com/spesmilo/electrum\n",
      "https://github.com/bitcoin-wallet/bitcoin-wallet\n",
      "https://github.com/etotheipi/BitcoinArmory\n",
      "https://github.com/bitcoin-dot-org/Bitcoin.org\n",
      "https://github.com/jgarzik/cpuminer\n",
      "https://github.com/BitcoinExchangeFH/BitcoinExchangeFH\n",
      "https://github.com/yenom/BitcoinKit\n",
      "https://github.com/maxme/bitcoin-arbitrage\n",
      "https://github.com/BitcoinUnlimited/BitcoinUnlimited\n",
      "https://github.com/Bitcoin-ABC/bitcoin-abc\n",
      "https://github.com/bisq-network/bisq\n",
      "https://github.com/mobnetic/BitcoinChecker\n",
      "https://github.com/bitcoin-abe/bitcoin-abe\n",
      "https://github.com/petertodd/python-bitcoinlib\n",
      "https://github.com/sipa/bitcoin-seeder\n",
      "https://github.com/imfly/bitcoin-on-nodejs\n",
      "https://github.com/PiSimo/BitcoinForecast\n",
      "https://github.com/trottier/original-bitcoin\n",
      "https://github.com/rust-bitcoin/rust-bitcoin\n",
      "https://github.com/Bit-Wasp/bitcoin-php\n",
      "https://github.com/btcpayserver/btcpayserver\n",
      "https://github.com/bitcoin-core/bitcoincore.org\n",
      "https://github.com/lian/bitcoin-ruby\n",
      "https://github.com/GammaGao/bitcoinwhitepaper\n",
      "https://github.com/tianmingyun/MasterBitcoin2CN\n",
      "https://github.com/kylemanna/docker-bitcoind\n",
      "https://github.com/pointbiz/bitaddress.org\n",
      "https://github.com/BTCPrivate/BitcoinPrivate-legacy\n",
      "https://github.com/jgarzik/python-bitcoinrpc\n",
      "https://github.com/pooler/cpuminer\n",
      "https://github.com/progranism/Open-Source-FPGA-Bitcoin-Miner\n",
      "https://github.com/HelloZeroNet/ZeroNet\n",
      "https://github.com/cryptean/bitcoinlib\n",
      "https://github.com/xiaolai/bitcoin-whitepaper-chinese-translation\n",
      "https://github.com/oleganza/CoreBitcoin\n",
      "https://github.com/bitcoin-sv/bitcoin-sv\n",
      "https://github.com/m0mchil/poclbm\n",
      "https://github.com/jgarzik/pyminer\n",
      "https://github.com/bitcoinxt/bitcoinxt\n",
      "https://github.com/paritytech/parity-bitcoin\n",
      "https://github.com/bitpay/insight\n",
      "https://github.com/stratisproject/StratisBitcoinFullNode\n",
      "https://github.com/Multibit-Legacy/multibit\n",
      "https://github.com/janoside/btc-rpc-explorer\n",
      "https://github.com/BlockchainCommons/Learning-Bitcoin-from-the-Command-Line\n",
      "https://github.com/JulyIghor/QtBitcoinTrader\n",
      "https://github.com/MetacoSA/NBitcoin\n",
      "https://github.com/p2pool/p2pool\n",
      "https://github.com/bitcoincashorg/bitcoincash.org\n",
      "https://github.com/igorbarinov/awesome-bitcoin\n",
      "https://github.com/buttercoin/buttercoin\n",
      "https://github.com/1200wd/bitcoinlib\n",
      "https://github.com/BitcoinPHP/BitcoinECDSA.php\n",
      "https://github.com/bitpay/bitcore\n",
      "https://github.com/lefnire/tforce_btc_trader\n",
      "https://github.com/bitpay/insight-api\n",
      "https://github.com/bitpay/bitcore-lib\n",
      "https://github.com/100trillionUSD/bitcoin\n",
      "https://github.com/jashmenn/bitcoin-reading-list\n",
      "https://github.com/bitpay/bitcoind-rpc\n",
      "https://github.com/zquestz/bitcoincash\n",
      "https://github.com/davout/bitcoin-central\n",
      "https://github.com/btcsuite/btcd\n",
      "https://github.com/ofek/bit\n",
      "https://github.com/bitpay/bitcore-wallet-service\n",
      "https://github.com/breadwallet/breadwallet-core\n",
      "https://github.com/ruimarinho/bitcoin-core\n",
      "https://github.com/dooglus/intersango\n",
      "https://github.com/Diablo-D3/DiabloMiner\n",
      "https://github.com/freewil/bitcoin-testnet-box\n",
      "https://github.com/mycelium-com/wallet-android\n",
      "https://github.com/benjyz/bitcoinArchive\n",
      "https://github.com/Blockstream/esplora\n",
      "https://github.com/butor/blackbird\n",
      "https://github.com/Bitlits/Bitcoin-Games\n",
      "https://github.com/znort987/blockparser\n",
      "https://github.com/kingrock/BitcoinExchange\n",
      "https://github.com/aceat64/EasyBitcoin-PHP\n",
      "https://github.com/eveybcd/BitcoinDiamond\n",
      "https://github.com/siminchen/bitcoinIDE\n",
      "https://github.com/ccxt/ccxt\n",
      "https://github.com/thallium205/BitcoinVisualizer\n",
      "https://github.com/brandonrobertz/BitcoinTradingAlgorithmToolkit\n",
      "https://github.com/libbitcoin/libbitcoin-explorer\n",
      "https://github.com/phishman3579/Bitcoin\n",
      "https://github.com/LedgerHQ/app-bitcoin\n",
      "https://github.com/SegwitB2X/bitcoin2x\n",
      "https://github.com/llSourcell/bitcoin_prediction\n",
      "https://github.com/alecalve/python-bitcoin-blockchain-parser\n",
      "https://github.com/fkysly/bitcoin0.1.0\n",
      "https://github.com/haskoin/haskoin-core\n",
      "https://github.com/philipperemy/deep-learning-bitcoin\n",
      "https://github.com/libbitcoin/libbitcoin-system\n",
      "https://github.com/ruimarinho/docker-bitcoin-core\n",
      "https://github.com/blinktrade/bitex\n",
      "https://github.com/bitcoin-core/HWI\n"
     ]
    }
   ],
   "source": [
    "for item in data['items']:\n",
    "    print(item['html_url'])"
   ]
  },
  {
   "cell_type": "code",
   "execution_count": null,
   "id": "b96e605f-f9e9-4df2-aec2-8341c28d2151",
   "metadata": {},
   "outputs": [],
   "source": []
  }
 ],
 "metadata": {
  "kernelspec": {
   "display_name": "Python 3 (ipykernel)",
   "language": "python",
   "name": "python3"
  },
  "language_info": {
   "codemirror_mode": {
    "name": "ipython",
    "version": 3
   },
   "file_extension": ".py",
   "mimetype": "text/x-python",
   "name": "python",
   "nbconvert_exporter": "python",
   "pygments_lexer": "ipython3",
   "version": "3.9.7"
  }
 },
 "nbformat": 4,
 "nbformat_minor": 5
}
